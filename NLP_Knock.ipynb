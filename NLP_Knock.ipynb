{
  "nbformat": 4,
  "nbformat_minor": 0,
  "metadata": {
    "colab": {
      "name": "NLP_Knock",
      "provenance": [],
      "collapsed_sections": [],
      "authorship_tag": "ABX9TyN/0kSf+75K232b8SX6Rbzi",
      "include_colab_link": true
    },
    "kernelspec": {
      "name": "python3",
      "display_name": "Python 3"
    }
  },
  "cells": [
    {
      "cell_type": "markdown",
      "metadata": {
        "id": "view-in-github",
        "colab_type": "text"
      },
      "source": [
        "<a href=\"https://colab.research.google.com/github/ku-mok/NLP_Knock/blob/main/NLP_Knock.ipynb\" target=\"_parent\"><img src=\"https://colab.research.google.com/assets/colab-badge.svg\" alt=\"Open In Colab\"/></a>"
      ]
    },
    {
      "cell_type": "markdown",
      "metadata": {
        "id": "48AfqBJU5v5C"
      },
      "source": [
        "00. 文字列の逆順Permalink\r\n",
        "- 文字列”stressed”の文字を逆に（末尾から先頭に向かって）並べた文字列を得よ．\r\n",
        "\r\n"
      ]
    },
    {
      "cell_type": "markdown",
      "metadata": {
        "id": "Wro2xu0I59Bm"
      },
      "source": [
        "# 言語処理100本ノック\r\n",
        "## 第1章準備運動\r\n",
        "### 00. 文字列の逆順Permalink\r\n",
        "- 文字列”stressed”の文字を逆に（末尾から先頭に向かって）並べた文字列を得よ．"
      ]
    },
    {
      "cell_type": "code",
      "metadata": {
        "colab": {
          "base_uri": "https://localhost:8080/",
          "height": 35
        },
        "id": "nSyeZH5Q5-lN",
        "outputId": "9de65b0a-bf92-4a4d-e2de-502ee88fe7fd"
      },
      "source": [
        "\"stressed\"[::-1]\r\n"
      ],
      "execution_count": 2,
      "outputs": [
        {
          "output_type": "execute_result",
          "data": {
            "application/vnd.google.colaboratory.intrinsic+json": {
              "type": "string"
            },
            "text/plain": [
              "'desserts'"
            ]
          },
          "metadata": {
            "tags": []
          },
          "execution_count": 2
        }
      ]
    },
    {
      "cell_type": "markdown",
      "metadata": {
        "id": "Txa6Ew8b6P30"
      },
      "source": [
        "###01. 「パタトクカシーー」Permalink\r\n",
        "-「パタトクカシーー」という文字列の1,3,5,7文字目を取り出して連結した文字列を得よ"
      ]
    },
    {
      "cell_type": "code",
      "metadata": {
        "colab": {
          "base_uri": "https://localhost:8080/",
          "height": 35
        },
        "id": "6Hk4A1su6RtD",
        "outputId": "0200e03e-b39a-4cc7-ed2b-d6eafc8440c0"
      },
      "source": [
        "\"パタトクカシー\"[::2]"
      ],
      "execution_count": 3,
      "outputs": [
        {
          "output_type": "execute_result",
          "data": {
            "application/vnd.google.colaboratory.intrinsic+json": {
              "type": "string"
            },
            "text/plain": [
              "'パトカー'"
            ]
          },
          "metadata": {
            "tags": []
          },
          "execution_count": 3
        }
      ]
    },
    {
      "cell_type": "markdown",
      "metadata": {
        "id": "b1SD2LBf6d_s"
      },
      "source": [
        "###02. 「パトカー」＋「タクシー」＝「パタトクカシーー」Permalink\r\n",
        "-「パトカー」＋「タクシー」の文字を先頭から交互に連結して文字列「パタトクカシーー」を得よ．"
      ]
    },
    {
      "cell_type": "code",
      "metadata": {
        "colab": {
          "base_uri": "https://localhost:8080/",
          "height": 35
        },
        "id": "zF7PYQeR6goq",
        "outputId": "0c299dd0-0a56-49f3-dcc9-e19c4922a4e4"
      },
      "source": [
        "from functools import reduce\r\n",
        "from operator import add\r\n",
        "reduce(add, (s[0] + s[1] for s in zip(\"パトカー\",\"タクシー\")), \"\")"
      ],
      "execution_count": 16,
      "outputs": [
        {
          "output_type": "execute_result",
          "data": {
            "application/vnd.google.colaboratory.intrinsic+json": {
              "type": "string"
            },
            "text/plain": [
              "'パタトクカシーー'"
            ]
          },
          "metadata": {
            "tags": []
          },
          "execution_count": 16
        }
      ]
    },
    {
      "cell_type": "markdown",
      "metadata": {
        "id": "flabUDyZ77jN"
      },
      "source": [
        "### 03. 円周率Permalink\r\n",
        "-“Now I need a drink, alcoholic of course, after the heavy lectures involving quantum mechanics.”という文を単語に分解し，各単語の（アルファベットの）文字数を先頭から出現順に並べたリストを作成せよ"
      ]
    },
    {
      "cell_type": "code",
      "metadata": {
        "colab": {
          "base_uri": "https://localhost:8080/"
        },
        "id": "76kD5vcG77U4",
        "outputId": "aee12f50-32c4-40d5-bd2b-53a29717e10d"
      },
      "source": [
        "import re\r\n",
        "list(map(len, re.findall(r\"\\w+\",\"Now I need a drink, alcoholic of course, after the heavy lectures involving quantum mechanics.\")))\r\n"
      ],
      "execution_count": 35,
      "outputs": [
        {
          "output_type": "execute_result",
          "data": {
            "text/plain": [
              "[3, 1, 4, 1, 5, 9, 2, 6, 5, 3, 5, 8, 9, 7, 9]"
            ]
          },
          "metadata": {
            "tags": []
          },
          "execution_count": 35
        }
      ]
    },
    {
      "cell_type": "markdown",
      "metadata": {
        "id": "SoJHH0ba9YQd"
      },
      "source": [
        "### 04. 元素記号Permalink\r\n",
        "-“Hi He Lied Because Boron Could Not Oxidize Fluorine. New Nations Might Also Sign Peace Security Clause. Arthur King Can.”という文を単語に分解し，1, 5, 6, 7, 8, 9, 15, 16, 19番目の単語は先頭の1文字，それ以外の単語は先頭の2文字を取り出し，取り出した文字列から単語の位置（先頭から何番目の単語か）への連想配列（辞書型もしくはマップ型）を作成せよ"
      ]
    },
    {
      "cell_type": "code",
      "metadata": {
        "colab": {
          "base_uri": "https://localhost:8080/"
        },
        "id": "McyUI-8q9aLz",
        "outputId": "fec40797-a9d1-4637-eb4c-96c525e1717a"
      },
      "source": [
        "first_one = (1, 5, 6, 7, 8, 9, 15, 16, 19)\r\n",
        "{s[0:1] if i+1 in first_one else s[:2]:  i+1  for i, s in enumerate(re.findall(r\"\\w+\",\"Hi He Lied Because Boron Could Not Oxidize Fluorine. New Nations Might Also Sign Peace Security Clause. Arthur King Can.\"))}\r\n"
      ],
      "execution_count": 49,
      "outputs": [
        {
          "output_type": "execute_result",
          "data": {
            "text/plain": [
              "{'Al': 13,\n",
              " 'Ar': 18,\n",
              " 'B': 5,\n",
              " 'Be': 4,\n",
              " 'C': 6,\n",
              " 'Ca': 20,\n",
              " 'Cl': 17,\n",
              " 'F': 9,\n",
              " 'H': 1,\n",
              " 'He': 2,\n",
              " 'K': 19,\n",
              " 'Li': 3,\n",
              " 'Mi': 12,\n",
              " 'N': 7,\n",
              " 'Na': 11,\n",
              " 'Ne': 10,\n",
              " 'O': 8,\n",
              " 'P': 15,\n",
              " 'S': 16,\n",
              " 'Si': 14}"
            ]
          },
          "metadata": {
            "tags": []
          },
          "execution_count": 49
        }
      ]
    },
    {
      "cell_type": "markdown",
      "metadata": {
        "id": "vL8bp0Ek_FNa"
      },
      "source": [
        "### 05. n-gramPermalink\r\n",
        "与えられたシーケンス（文字列やリストなど）からn-gramを作る関数を作成せよ．この関数を用い，”I am an NLPer”という文から単語bi-gram，文字bi-gramを得よ．"
      ]
    },
    {
      "cell_type": "code",
      "metadata": {
        "colab": {
          "base_uri": "https://localhost:8080/"
        },
        "id": "zN6hEnCm_Jk6",
        "outputId": "c2913071-5d60-4c74-844d-66eb9af894b0"
      },
      "source": [
        "def tokenize_eng(text):\r\n",
        "  return re.findall(r\"\\w+\",text)\r\n",
        "\r\n",
        "def ngram(text, n, mode):\r\n",
        "  if mode == \"word\":\r\n",
        "    if isinstance(text, str):\r\n",
        "      target = tokenize_eng(text)\r\n",
        "    else:\r\n",
        "      target = text\r\n",
        "  elif mode == \"letter\":\r\n",
        "    if isinstance(text, str):\r\n",
        "      target = text\r\n",
        "    else:\r\n",
        "      target = reduce(lambda x, y: x+ \" \"+y, text)\r\n",
        "  else:\r\n",
        "    raise Error()\r\n",
        "  return (target[start:start + n] for start in range(len(target) - n + 1))\r\n",
        "print(list(ngram(\"I am an NLPer\", 2, \"word\")))\r\n",
        "print(list(ngram(\"I am an NLPer\", 2, \"letter\")))"
      ],
      "execution_count": 61,
      "outputs": [
        {
          "output_type": "stream",
          "text": [
            "[['I', 'am'], ['am', 'an'], ['an', 'NLPer']]\n",
            "['I ', ' a', 'am', 'm ', ' a', 'an', 'n ', ' N', 'NL', 'LP', 'Pe', 'er']\n"
          ],
          "name": "stdout"
        }
      ]
    },
    {
      "cell_type": "markdown",
      "metadata": {
        "id": "8i9WX_Y8BzPw"
      },
      "source": [
        "###06. 集合Permalink\r\n",
        "- \"paraparaparadise\"と\"paragraph\"に含まれる文字bi-gramの集合を，それぞれ, XとYとして求め，XとYの和集合，積集合，差集合を求めよ．さらに，’se’というbi-gramがXおよびYに含まれるかどうかを調べよ．"
      ]
    },
    {
      "cell_type": "code",
      "metadata": {
        "colab": {
          "base_uri": "https://localhost:8080/"
        },
        "id": "uee7NiK7B1X6",
        "outputId": "db20ede2-d595-4c44-d4cf-a506b8f017db"
      },
      "source": [
        "X = set(ngram(\"paraparaparadise\", 2, \"letter\"))\r\n",
        "Y = set(ngram(\"paragraph\", 2, \"letter\"))\r\n",
        "print(X | Y) # union\r\n",
        "print(X & Y) # intersection\r\n",
        "print(X - Y) # difference\r\n",
        "print(\"se\" in X)\r\n",
        "print(\"se\" in Y)"
      ],
      "execution_count": 66,
      "outputs": [
        {
          "output_type": "stream",
          "text": [
            "{'se', 'gr', 'is', 'ph', 'di', 'ap', 'pa', 'ag', 'ra', 'ar', 'ad'}\n",
            "{'ap', 'pa', 'ra', 'ar'}\n",
            "{'se', 'is', 'di', 'ad'}\n",
            "True\n",
            "False\n"
          ],
          "name": "stdout"
        }
      ]
    },
    {
      "cell_type": "markdown",
      "metadata": {
        "id": "FMJfRpGHC6Ch"
      },
      "source": [
        "### 07. テンプレートによる文生成Permalink\r\n",
        "- 引数x, y, zを受け取り「x時のyはz」という文字列を返す関数を実装せよ．さらに，x=12, y=”気温”, z=22.4として，実行結果を確認せよ．"
      ]
    },
    {
      "cell_type": "code",
      "metadata": {
        "colab": {
          "base_uri": "https://localhost:8080/",
          "height": 35
        },
        "id": "tLRA0_HTC0Fn",
        "outputId": "aeeb1139-3e5b-4f99-bbd9-0ec5b7d15da1"
      },
      "source": [
        "def time_value_template(x, y, z):\r\n",
        "  return f\"{x}時の{y}は{z}\"\r\n",
        "time_value_template(12, \"気温\", 22.4)"
      ],
      "execution_count": 68,
      "outputs": [
        {
          "output_type": "execute_result",
          "data": {
            "application/vnd.google.colaboratory.intrinsic+json": {
              "type": "string"
            },
            "text/plain": [
              "'12時の気温は22.4'"
            ]
          },
          "metadata": {
            "tags": []
          },
          "execution_count": 68
        }
      ]
    },
    {
      "cell_type": "markdown",
      "metadata": {
        "id": "SOBNofJtDSjs"
      },
      "source": [
        "### 08. 暗号文\r\n",
        "- 与えられた文字列の各文字を，以下の仕様で変換する関数cipherを実装せよ．\r\n",
        "  - 英小文字ならば(219 - 文字コード)の文字に置換\r\n",
        "  - その他の文字はそのまま出力\r\n",
        "- この関数を用い，英語のメッセージを暗号化・復号化せよ"
      ]
    },
    {
      "cell_type": "code",
      "metadata": {
        "colab": {
          "base_uri": "https://localhost:8080/"
        },
        "id": "vF2XYFMCDYNg",
        "outputId": "6fe9fd10-24bc-4d9c-cf7e-361fbabf1452"
      },
      "source": [
        "def cipher(input):\r\n",
        "  encoded = \"\"\r\n",
        "  for s in input:\r\n",
        "    if s.islower():\r\n",
        "      encoded  += chr(219 - ord(s))\r\n",
        "    else:\r\n",
        "      encoded += s\r\n",
        "  return encoded\r\n",
        "  \r\n",
        "print(cipher(\"I am NLPer\"))\r\n",
        "print(cipher(cipher(\"I am NLPer\")))"
      ],
      "execution_count": 75,
      "outputs": [
        {
          "output_type": "stream",
          "text": [
            "I zn NLPvi\n",
            "I am NLPer\n"
          ],
          "name": "stdout"
        }
      ]
    },
    {
      "cell_type": "markdown",
      "metadata": {
        "id": "11amdmW8DXz3"
      },
      "source": [
        "### 09. Typoglycemia\r\n",
        "- スペースで区切られた単語列に対して，各単語の先頭と末尾の文字は残し，それ以外の文字の順序をランダムに並び替えるプログラムを作成せよ．ただし，長さが４以下の単語は並び替えないこととする．適当な英語の文（例えば”I couldn’t believe that I could actually understand what I was reading : the phenomenal power of the human mind .”）を与え，その実行結果を確認せよ．"
      ]
    },
    {
      "cell_type": "code",
      "metadata": {
        "colab": {
          "base_uri": "https://localhost:8080/",
          "height": 35
        },
        "id": "3_tsv7xaFvWF",
        "outputId": "a548f16a-1a55-4556-cc22-d3b7b21804c4"
      },
      "source": [
        "import random\r\n",
        "def typoglycemia(input):\r\n",
        "  tokenized = tokenize_eng(input)\r\n",
        "  typoglycemized = []\r\n",
        "  for t in tokenized:\r\n",
        "    if len(t) <= 4:\r\n",
        "      typoglycemized.append(t)\r\n",
        "    else:\r\n",
        "      new_token = t[0] + \"\".join(random.sample(t[1: len(t)-1], len(t) - 2)) + t[len(t)-1]\r\n",
        "      typoglycemized.append(new_token)\r\n",
        "  return \" \".join(typoglycemized)\r\n",
        "typoglycemia(\"I couldn’t believe that I could actually understand what I was reading : the phenomenal power of the human mind .\")"
      ],
      "execution_count": 91,
      "outputs": [
        {
          "output_type": "execute_result",
          "data": {
            "application/vnd.google.colaboratory.intrinsic+json": {
              "type": "string"
            },
            "text/plain": [
              "'I coudln t belviee that I cluod auactlly unesanrtdd what I was riendag the peamnenohl poewr of the hmaun mind'"
            ]
          },
          "metadata": {
            "tags": []
          },
          "execution_count": 91
        }
      ]
    }
  ]
}